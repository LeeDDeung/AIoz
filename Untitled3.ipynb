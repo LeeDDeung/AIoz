{
  "nbformat": 4,
  "nbformat_minor": 0,
  "metadata": {
    "colab": {
      "provenance": [],
      "authorship_tag": "ABX9TyMB7vzumgRxEiKBoz6doJMz",
      "include_colab_link": true
    },
    "kernelspec": {
      "name": "python3",
      "display_name": "Python 3"
    },
    "language_info": {
      "name": "python"
    }
  },
  "cells": [
    {
      "cell_type": "markdown",
      "metadata": {
        "id": "view-in-github",
        "colab_type": "text"
      },
      "source": [
        "<a href=\"https://colab.research.google.com/github/LeeDDeung/AIoz/blob/main/Untitled3.ipynb\" target=\"_parent\"><img src=\"https://colab.research.google.com/assets/colab-badge.svg\" alt=\"Open In Colab\"/></a>"
      ]
    },
    {
      "cell_type": "code",
      "execution_count": 3,
      "metadata": {
        "id": "bMhOgpk0PFl-"
      },
      "outputs": [],
      "source": [
        "이름 = \"이승재\"\n",
        "나이 = 28\n",
        "체온 = 26.8\n",
        "고혈압_여부 = True\n"
      ]
    },
    {
      "cell_type": "code",
      "source": [
        "print(type(이름))\n",
        "print(type(나이))\n",
        "print(type(체온))\n",
        "print(type(고혈압_여부))"
      ],
      "metadata": {
        "colab": {
          "base_uri": "https://localhost:8080/"
        },
        "id": "GWbyQsDsPheI",
        "outputId": "15c76735-e90f-4567-9d07-3d8c95eb72a8"
      },
      "execution_count": 4,
      "outputs": [
        {
          "output_type": "stream",
          "name": "stdout",
          "text": [
            "<class 'str'>\n",
            "<class 'int'>\n",
            "<class 'float'>\n",
            "<class 'bool'>\n"
          ]
        }
      ]
    },
    {
      "cell_type": "code",
      "source": [
        "height_cm = 165\n",
        "weight_kg = 60\n",
        "bmi = weight_kg / ((height_cm / 100) ** 2)"
      ],
      "metadata": {
        "id": "1XJk1JyvPtuZ"
      },
      "execution_count": 9,
      "outputs": []
    },
    {
      "cell_type": "code",
      "source": [
        "\n",
        "\n",
        "if bmi>25 :\n",
        "    print(\"과체중입니다\")\n",
        "else :\n",
        "    print(\"정상 체중입나다\")"
      ],
      "metadata": {
        "colab": {
          "base_uri": "https://localhost:8080/"
        },
        "id": "R7dYPPFkPyUR",
        "outputId": "3ed28e2f-02c3-461a-a444-7b7ca361d4d0"
      },
      "execution_count": 12,
      "outputs": [
        {
          "output_type": "stream",
          "name": "stdout",
          "text": [
            "정상 체중입나다\n"
          ]
        }
      ]
    },
    {
      "cell_type": "code",
      "source": [
        "is_weekend = False\n",
        "has_homework = True"
      ],
      "metadata": {
        "id": "4_N9jr3TQpKf"
      },
      "execution_count": 21,
      "outputs": []
    },
    {
      "cell_type": "code",
      "source": [
        "if is_weekend and not has_homework:\n",
        "    print(\"푹 쉴 수 있어요\")\n",
        "elif is_weekend and has_homework:\n",
        "    print(\"숙제를 먼저 해요\")\n",
        "elif not is_weekend and has_homework :\n",
        "    print(\"오늘도 바빠요\")\n",
        "else :\n",
        "    print(\"조금 여유롭네요\")"
      ],
      "metadata": {
        "colab": {
          "base_uri": "https://localhost:8080/"
        },
        "id": "0CqY76RoQuvg",
        "outputId": "54ae315f-012a-49af-f3c0-441435d3344e"
      },
      "execution_count": 22,
      "outputs": [
        {
          "output_type": "stream",
          "name": "stdout",
          "text": [
            "오늘도 바빠요\n"
          ]
        }
      ]
    },
    {
      "cell_type": "code",
      "source": [
        "name_ = \"이승재\"\n",
        "age_ = 28\n",
        "body_temperature = 36.8\n",
        "HTN_ = True\n"
      ],
      "metadata": {
        "id": "0czcCxVrQshS"
      },
      "execution_count": 27,
      "outputs": []
    },
    {
      "cell_type": "code",
      "source": [
        "print(type(name_))\n",
        "print(type(age_))\n",
        "print(type(body_temperature))\n",
        "print(type(HTN_))"
      ],
      "metadata": {
        "colab": {
          "base_uri": "https://localhost:8080/"
        },
        "id": "xgFL-wu2kd9h",
        "outputId": "10148e4b-b767-459e-8926-7fec4df85bf6"
      },
      "execution_count": 28,
      "outputs": [
        {
          "output_type": "stream",
          "name": "stdout",
          "text": [
            "<class 'str'>\n",
            "<class 'int'>\n",
            "<class 'float'>\n",
            "<class 'bool'>\n"
          ]
        }
      ]
    },
    {
      "cell_type": "code",
      "source": [],
      "metadata": {
        "id": "5-O41l4rkflN"
      },
      "execution_count": null,
      "outputs": []
    },
    {
      "cell_type": "code",
      "source": [],
      "metadata": {
        "id": "4SEZeY6fkbYr"
      },
      "execution_count": null,
      "outputs": []
    },
    {
      "cell_type": "code",
      "source": [],
      "metadata": {
        "id": "zFR9TnBKkZi-"
      },
      "execution_count": null,
      "outputs": []
    }
  ]
}